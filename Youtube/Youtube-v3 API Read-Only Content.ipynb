{
 "cells": [
  {
   "cell_type": "code",
   "execution_count": null,
   "metadata": {},
   "outputs": [],
   "source": [
    "# Importing Youtube API's build method to construct request\n",
    "\n",
    "from apiclient.discovery import build\n",
    "import pprint"
   ]
  },
  {
   "cell_type": "code",
   "execution_count": null,
   "metadata": {},
   "outputs": [],
   "source": [
    "# Creating an API Key for our application via \"Create Credentials\" from your Google Developer Console\n",
    "\n",
    "API_KEY = 'INSERT YOUR API KEY'"
   ]
  },
  {
   "cell_type": "code",
   "execution_count": null,
   "metadata": {},
   "outputs": [],
   "source": [
    "# Creating Youtube instance\n",
    "\n",
    "youtube = build('youtube','v3',developerKey = API_KEY)\n",
    "print(youtube)"
   ]
  },
  {
   "cell_type": "code",
   "execution_count": null,
   "metadata": {},
   "outputs": [],
   "source": [
    "# Accessing Data / Consuming API\n",
    "\n",
    "response_payload = youtube.search().list(q='YouTube API v3',part='snippet',type='video',maxResults=1).execute()\n",
    "\n",
    "### q : Content to search. \n",
    "# Your request can also use the Boolean NOT (-) and OR (|) operators to exclude videos or to find videos that are associated with one of several search terms. \n",
    "# For example, to search for videos matching either \"boating\" or \"sailing\", set the q parameter value to boating|sailing. \n",
    "\n",
    "### videoDuration : filters video search results based on their duration.\n",
    "# Acceptable values[any ,long ,medium ,short ]\n",
    "\n",
    "### videoType : restrict a search to a particular type of videos\n",
    "# Acceptable values[any ,episode ,movie]\n",
    "\n",
    "### part = snippet : To fetch basic details for a video\n",
    "### type : identifies matching video, channel, and playlist resources\n",
    "### maxResults : Acceptable values are 0 to 50, inclusive. The default value is 5.\n",
    "\n",
    "### order : In which order retrieve resources. The default value is relevance. \n",
    "# Acceptable values[date ,rating ,title ,videoCount ,viewCount ,relevance]"
   ]
  },
  {
   "cell_type": "code",
   "execution_count": null,
   "metadata": {},
   "outputs": [],
   "source": [
    "# Response payload\n",
    "pprint.pprint(response_payload)\n",
    "\n",
    "'''\n",
    "{\n",
    "  \"kind\": \"youtube#searchResult\",\n",
    "  \"etag\": etag,\n",
    "  \"id\": {\n",
    "    \"kind\": string,\n",
    "    \"videoId\": string,\n",
    "    \"channelId\": string,\n",
    "    \"playlistId\": string\n",
    "  },\n",
    "  \"snippet\": {\n",
    "    \"publishedAt\": datetime,\n",
    "    \"channelId\": string,\n",
    "    \"title\": string,\n",
    "    \"description\": string,\n",
    "    \"thumbnails\": {\n",
    "      (key): {\n",
    "        \"url\": string,\n",
    "        \"width\": unsigned integer,\n",
    "        \"height\": unsigned integer\n",
    "      }\n",
    "    },\n",
    "    \"channelTitle\": string,\n",
    "    \"liveBroadcastContent\": string\n",
    "  }\n",
    "}\n",
    "'''"
   ]
  }
 ],
 "metadata": {
  "kernelspec": {
   "display_name": "Python 3",
   "language": "python",
   "name": "python3"
  },
  "language_info": {
   "codemirror_mode": {
    "name": "ipython",
    "version": 3
   },
   "file_extension": ".py",
   "mimetype": "text/x-python",
   "name": "python",
   "nbconvert_exporter": "python",
   "pygments_lexer": "ipython3",
   "version": "3.7.3"
  }
 },
 "nbformat": 4,
 "nbformat_minor": 2
}
